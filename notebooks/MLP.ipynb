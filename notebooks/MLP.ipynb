{
 "cells": [
  {
   "cell_type": "code",
   "execution_count": null,
   "metadata": {
    "executionInfo": {
     "elapsed": 11,
     "status": "ok",
     "timestamp": 1645810083646,
     "user": {
      "displayName": "Thiago Ferreira",
      "photoUrl": "https://lh3.googleusercontent.com/a/default-user=s64",
      "userId": "11691299862555252725"
     },
     "user_tz": 180
    },
    "id": "JRbhdxKwVd73"
   },
   "outputs": [],
   "source": []
  },
  {
   "cell_type": "markdown",
   "metadata": {},
   "source": [
    "## Classificação Supervisionada com PyTorch\n",
    "\n",
    "Este notebook apresenta um fluxo completo de treinamento, validação e teste de um modelo de classificação supervisionada utilizando o framework PyTorch.\n",
    "\n",
    "O objetivo é demonstrar, passo a passo, o processo de construção de um modelo de rede neural simples, incluindo as etapas de preparação dos dados, normalização, conversão para tensores, treinamento e avaliação do desempenho.\n",
    "\n",
    "### Etapas do notebook\n",
    "\n",
    "1. **Carregamento e preparação dos dados**  \n",
    "   - Seleção das variáveis preditoras e da variável-alvo.  \n",
    "   - Divisão do conjunto original em treino, validação e teste.  \n",
    "\n",
    "2. **Padronização das variáveis (normalização)**  \n",
    "   - Uso do `StandardScaler` para garantir que todas as features possuam média 0 e desvio padrão 1.  \n",
    "\n",
    "3. **Conversão para tensores do PyTorch**  \n",
    "   - Transformação dos arrays NumPy em tensores (`float32` para features e `long` para rótulos).  \n",
    "\n",
    "4. **Definição do modelo e funções auxiliares**  \n",
    "   - Implementação de um modelo de regressão logística com o PyTorch (`nn.Module`).  \n",
    "   - Criação de funções para cálculo de perda, acurácia e agregação de métricas.  \n",
    "\n",
    "5. **Treinamento e validação do modelo**  \n",
    "   - Uso da função `fit()` para executar múltiplas épocas de aprendizado.  \n",
    "   - Registro das métricas de desempenho ao longo do treinamento.  \n",
    "\n",
    "6. **Visualização das curvas de aprendizado**  \n",
    "   - Plotagem das curvas de perda (treino e validação) e da acurácia de validação.  \n",
    "\n",
    "7. **Avaliação final e matriz de confusão**  \n",
    "   - Avaliação do modelo no conjunto de teste.  \n",
    "   - Visualização da matriz de confusão para análise detalhada dos erros de classificação.\n",
    "\n",
    "---\n",
    "\n",
    "Este experimento serve como uma introdução prática aos conceitos fundamentais de aprendizado supervisionado com redes neurais, fornecendo uma base para o desenvolvimento de modelos mais complexos no PyTorch.\n"
   ]
  },
  {
   "cell_type": "code",
   "execution_count": 1,
   "metadata": {
    "executionInfo": {
     "elapsed": 1104,
     "status": "ok",
     "timestamp": 1645810084741,
     "user": {
      "displayName": "Thiago Ferreira",
      "photoUrl": "https://lh3.googleusercontent.com/a/default-user=s64",
      "userId": "11691299862555252725"
     },
     "user_tz": 180
    },
    "id": "AbAVXrUMiS8I"
   },
   "outputs": [],
   "source": [
    "%matplotlib inline\n",
    "\n",
    "# join one or more path components intelligently\n",
    "from os.path import join\n",
    "\n",
    "#torch import\n",
    "import torch\n",
    "from torch.utils.data import random_split\n",
    "from torch.utils.data import DataLoader\n",
    "import torch.nn as nn\n",
    "import torch.nn.functional as F\n",
    "from sklearn.model_selection import train_test_split\n",
    "\n",
    "# Interface com o sistema operacional\n",
    "import os\n",
    "\n",
    "# Manipulação de dataframes\n",
    "import pandas as pd\n",
    "\n",
    "# Manipulação de dados tabulares\n",
    "import numpy as np\n",
    "\n",
    "# Normalização das características\n",
    "from sklearn.preprocessing import StandardScaler\n",
    "\n",
    "# visualização de dados baseada no matplotlib\n",
    "import seaborn as sns\n",
    "\n",
    "# Esboço de gráficos\n",
    "from matplotlib import pyplot as plt"
   ]
  },
  {
   "cell_type": "markdown",
   "metadata": {
    "id": "-YZir9AOjcWW"
   },
   "source": [
    "# Classificação de clientes"
   ]
  },
  {
   "cell_type": "markdown",
   "metadata": {
    "id": "1q_hJLpdsoML"
   },
   "source": [
    "## Carga e inspeção dos dados"
   ]
  },
  {
   "cell_type": "code",
   "execution_count": 2,
   "metadata": {
    "executionInfo": {
     "elapsed": 15,
     "status": "ok",
     "timestamp": 1645810084743,
     "user": {
      "displayName": "Thiago Ferreira",
      "photoUrl": "https://lh3.googleusercontent.com/a/default-user=s64",
      "userId": "11691299862555252725"
     },
     "user_tz": 180
    },
    "id": "kqhbdu5V_uCi"
   },
   "outputs": [],
   "source": [
    "# Definição dos nomes das variáveis (conforme a tabela contida no enunciado)\n",
    "colnames = ['ESCT', 'NDEP', 'RENDA', 'TIPOR', 'VBEM', 'NPARC',\n",
    "            'VPARC', 'TEL', 'IDADE', 'RESMS', 'ENTRADA', 'CLASSE']"
   ]
  },
  {
   "cell_type": "code",
   "execution_count": 3,
   "metadata": {
    "executionInfo": {
     "elapsed": 15,
     "status": "ok",
     "timestamp": 1645810084744,
     "user": {
      "displayName": "Thiago Ferreira",
      "photoUrl": "https://lh3.googleusercontent.com/a/default-user=s64",
      "userId": "11691299862555252725"
     },
     "user_tz": 180
    },
    "id": "O8f0yXVbtEmZ"
   },
   "outputs": [],
   "source": [
    "# Leitura dos dados de treino\n",
    "arquivo = '../../../data/credtrain.txt'\n",
    "data_train = pd.read_csv(arquivo, sep='\\t', header=None, names = colnames)\n",
    "\n",
    "# Leitura dos dados de teste\n",
    "arquivo = '../../../data/credtest.txt'\n",
    "data_test = pd.read_csv(arquivo, sep='\\t', header=None, names = colnames)"
   ]
  },
  {
   "cell_type": "markdown",
   "metadata": {
    "id": "0tFxQ82et98A"
   },
   "source": [
    "**Inspeção dos dados**"
   ]
  },
  {
   "cell_type": "code",
   "execution_count": 4,
   "metadata": {
    "colab": {
     "base_uri": "https://localhost:8080/"
    },
    "executionInfo": {
     "elapsed": 15,
     "status": "ok",
     "timestamp": 1645810084745,
     "user": {
      "displayName": "Thiago Ferreira",
      "photoUrl": "https://lh3.googleusercontent.com/a/default-user=s64",
      "userId": "11691299862555252725"
     },
     "user_tz": 180
    },
    "id": "Doy7gsSfecpv",
    "outputId": "caa157de-e6e5-4b0b-d89b-9b94ffb577ee"
   },
   "outputs": [
    {
     "name": "stdout",
     "output_type": "stream",
     "text": [
      "(1500, 12) (577, 12)\n"
     ]
    }
   ],
   "source": [
    "# Inspeção da dimensão do dataset\n",
    "print(data_train.shape, data_test.shape)"
   ]
  },
  {
   "cell_type": "code",
   "execution_count": 5,
   "metadata": {
    "colab": {
     "base_uri": "https://localhost:8080/",
     "height": 206
    },
    "executionInfo": {
     "elapsed": 541,
     "status": "ok",
     "timestamp": 1645810085276,
     "user": {
      "displayName": "Thiago Ferreira",
      "photoUrl": "https://lh3.googleusercontent.com/a/default-user=s64",
      "userId": "11691299862555252725"
     },
     "user_tz": 180
    },
    "id": "1gM-thS-_uCj",
    "outputId": "dc5d9427-1faf-4b91-db9b-f47d0d974b79"
   },
   "outputs": [
    {
     "data": {
      "text/html": [
       "<div>\n",
       "<style scoped>\n",
       "    .dataframe tbody tr th:only-of-type {\n",
       "        vertical-align: middle;\n",
       "    }\n",
       "\n",
       "    .dataframe tbody tr th {\n",
       "        vertical-align: top;\n",
       "    }\n",
       "\n",
       "    .dataframe thead th {\n",
       "        text-align: right;\n",
       "    }\n",
       "</style>\n",
       "<table border=\"1\" class=\"dataframe\">\n",
       "  <thead>\n",
       "    <tr style=\"text-align: right;\">\n",
       "      <th></th>\n",
       "      <th>ESCT</th>\n",
       "      <th>NDEP</th>\n",
       "      <th>RENDA</th>\n",
       "      <th>TIPOR</th>\n",
       "      <th>VBEM</th>\n",
       "      <th>NPARC</th>\n",
       "      <th>VPARC</th>\n",
       "      <th>TEL</th>\n",
       "      <th>IDADE</th>\n",
       "      <th>RESMS</th>\n",
       "      <th>ENTRADA</th>\n",
       "      <th>CLASSE</th>\n",
       "    </tr>\n",
       "  </thead>\n",
       "  <tbody>\n",
       "    <tr>\n",
       "      <th>0</th>\n",
       "      <td>1</td>\n",
       "      <td>0</td>\n",
       "      <td>360</td>\n",
       "      <td>0</td>\n",
       "      <td>313</td>\n",
       "      <td>9</td>\n",
       "      <td>52</td>\n",
       "      <td>0</td>\n",
       "      <td>25</td>\n",
       "      <td>48</td>\n",
       "      <td>0</td>\n",
       "      <td>1</td>\n",
       "    </tr>\n",
       "    <tr>\n",
       "      <th>1</th>\n",
       "      <td>0</td>\n",
       "      <td>0</td>\n",
       "      <td>350</td>\n",
       "      <td>1</td>\n",
       "      <td>468</td>\n",
       "      <td>10</td>\n",
       "      <td>65</td>\n",
       "      <td>0</td>\n",
       "      <td>33</td>\n",
       "      <td>6</td>\n",
       "      <td>0</td>\n",
       "      <td>1</td>\n",
       "    </tr>\n",
       "    <tr>\n",
       "      <th>2</th>\n",
       "      <td>0</td>\n",
       "      <td>0</td>\n",
       "      <td>1100</td>\n",
       "      <td>0</td>\n",
       "      <td>829</td>\n",
       "      <td>9</td>\n",
       "      <td>125</td>\n",
       "      <td>0</td>\n",
       "      <td>56</td>\n",
       "      <td>48</td>\n",
       "      <td>0</td>\n",
       "      <td>1</td>\n",
       "    </tr>\n",
       "    <tr>\n",
       "      <th>3</th>\n",
       "      <td>0</td>\n",
       "      <td>0</td>\n",
       "      <td>3000</td>\n",
       "      <td>0</td>\n",
       "      <td>552</td>\n",
       "      <td>12</td>\n",
       "      <td>76</td>\n",
       "      <td>1</td>\n",
       "      <td>31</td>\n",
       "      <td>60</td>\n",
       "      <td>0</td>\n",
       "      <td>1</td>\n",
       "    </tr>\n",
       "    <tr>\n",
       "      <th>4</th>\n",
       "      <td>1</td>\n",
       "      <td>0</td>\n",
       "      <td>1000</td>\n",
       "      <td>0</td>\n",
       "      <td>809</td>\n",
       "      <td>12</td>\n",
       "      <td>111</td>\n",
       "      <td>0</td>\n",
       "      <td>24</td>\n",
       "      <td>7</td>\n",
       "      <td>0</td>\n",
       "      <td>1</td>\n",
       "    </tr>\n",
       "  </tbody>\n",
       "</table>\n",
       "</div>"
      ],
      "text/plain": [
       "   ESCT  NDEP  RENDA  TIPOR  VBEM  NPARC  VPARC  TEL  IDADE  RESMS  ENTRADA  \\\n",
       "0     1     0    360      0   313      9     52    0     25     48        0   \n",
       "1     0     0    350      1   468     10     65    0     33      6        0   \n",
       "2     0     0   1100      0   829      9    125    0     56     48        0   \n",
       "3     0     0   3000      0   552     12     76    1     31     60        0   \n",
       "4     1     0   1000      0   809     12    111    0     24      7        0   \n",
       "\n",
       "   CLASSE  \n",
       "0       1  \n",
       "1       1  \n",
       "2       1  \n",
       "3       1  \n",
       "4       1  "
      ]
     },
     "execution_count": 5,
     "metadata": {},
     "output_type": "execute_result"
    }
   ],
   "source": [
    "# Inspeção das primeiras linhas do conjunto de treinamento\n",
    "data_train.head()"
   ]
  },
  {
   "cell_type": "code",
   "execution_count": 6,
   "metadata": {
    "colab": {
     "base_uri": "https://localhost:8080/",
     "height": 206
    },
    "executionInfo": {
     "elapsed": 67,
     "status": "ok",
     "timestamp": 1645810085278,
     "user": {
      "displayName": "Thiago Ferreira",
      "photoUrl": "https://lh3.googleusercontent.com/a/default-user=s64",
      "userId": "11691299862555252725"
     },
     "user_tz": 180
    },
    "id": "2qdSwb4AuGEo",
    "outputId": "5931a62a-340d-4fc6-de26-c646b6b9f366"
   },
   "outputs": [
    {
     "data": {
      "text/html": [
       "<div>\n",
       "<style scoped>\n",
       "    .dataframe tbody tr th:only-of-type {\n",
       "        vertical-align: middle;\n",
       "    }\n",
       "\n",
       "    .dataframe tbody tr th {\n",
       "        vertical-align: top;\n",
       "    }\n",
       "\n",
       "    .dataframe thead th {\n",
       "        text-align: right;\n",
       "    }\n",
       "</style>\n",
       "<table border=\"1\" class=\"dataframe\">\n",
       "  <thead>\n",
       "    <tr style=\"text-align: right;\">\n",
       "      <th></th>\n",
       "      <th>ESCT</th>\n",
       "      <th>NDEP</th>\n",
       "      <th>RENDA</th>\n",
       "      <th>TIPOR</th>\n",
       "      <th>VBEM</th>\n",
       "      <th>NPARC</th>\n",
       "      <th>VPARC</th>\n",
       "      <th>TEL</th>\n",
       "      <th>IDADE</th>\n",
       "      <th>RESMS</th>\n",
       "      <th>ENTRADA</th>\n",
       "      <th>CLASSE</th>\n",
       "    </tr>\n",
       "  </thead>\n",
       "  <tbody>\n",
       "    <tr>\n",
       "      <th>0</th>\n",
       "      <td>0</td>\n",
       "      <td>2</td>\n",
       "      <td>500</td>\n",
       "      <td>1</td>\n",
       "      <td>618</td>\n",
       "      <td>10</td>\n",
       "      <td>85</td>\n",
       "      <td>0</td>\n",
       "      <td>36</td>\n",
       "      <td>6</td>\n",
       "      <td>0</td>\n",
       "      <td>0</td>\n",
       "    </tr>\n",
       "    <tr>\n",
       "      <th>1</th>\n",
       "      <td>1</td>\n",
       "      <td>0</td>\n",
       "      <td>813</td>\n",
       "      <td>0</td>\n",
       "      <td>552</td>\n",
       "      <td>4</td>\n",
       "      <td>119</td>\n",
       "      <td>0</td>\n",
       "      <td>43</td>\n",
       "      <td>48</td>\n",
       "      <td>119</td>\n",
       "      <td>1</td>\n",
       "    </tr>\n",
       "    <tr>\n",
       "      <th>2</th>\n",
       "      <td>3</td>\n",
       "      <td>0</td>\n",
       "      <td>350</td>\n",
       "      <td>0</td>\n",
       "      <td>488</td>\n",
       "      <td>12</td>\n",
       "      <td>66</td>\n",
       "      <td>0</td>\n",
       "      <td>43</td>\n",
       "      <td>0</td>\n",
       "      <td>0</td>\n",
       "      <td>1</td>\n",
       "    </tr>\n",
       "    <tr>\n",
       "      <th>3</th>\n",
       "      <td>1</td>\n",
       "      <td>0</td>\n",
       "      <td>1530</td>\n",
       "      <td>0</td>\n",
       "      <td>381</td>\n",
       "      <td>1</td>\n",
       "      <td>398</td>\n",
       "      <td>0</td>\n",
       "      <td>28</td>\n",
       "      <td>48</td>\n",
       "      <td>0</td>\n",
       "      <td>1</td>\n",
       "    </tr>\n",
       "    <tr>\n",
       "      <th>4</th>\n",
       "      <td>0</td>\n",
       "      <td>0</td>\n",
       "      <td>688</td>\n",
       "      <td>1</td>\n",
       "      <td>396</td>\n",
       "      <td>10</td>\n",
       "      <td>60</td>\n",
       "      <td>0</td>\n",
       "      <td>49</td>\n",
       "      <td>72</td>\n",
       "      <td>0</td>\n",
       "      <td>1</td>\n",
       "    </tr>\n",
       "  </tbody>\n",
       "</table>\n",
       "</div>"
      ],
      "text/plain": [
       "   ESCT  NDEP  RENDA  TIPOR  VBEM  NPARC  VPARC  TEL  IDADE  RESMS  ENTRADA  \\\n",
       "0     0     2    500      1   618     10     85    0     36      6        0   \n",
       "1     1     0    813      0   552      4    119    0     43     48      119   \n",
       "2     3     0    350      0   488     12     66    0     43      0        0   \n",
       "3     1     0   1530      0   381      1    398    0     28     48        0   \n",
       "4     0     0    688      1   396     10     60    0     49     72        0   \n",
       "\n",
       "   CLASSE  \n",
       "0       0  \n",
       "1       1  \n",
       "2       1  \n",
       "3       1  \n",
       "4       1  "
      ]
     },
     "execution_count": 6,
     "metadata": {},
     "output_type": "execute_result"
    }
   ],
   "source": [
    "# Inspeção das primeiras linhas do conjunto de teste\n",
    "data_test.head()"
   ]
  },
  {
   "cell_type": "markdown",
   "metadata": {
    "id": "6nLoBloCF-sZ"
   },
   "source": [
    "## Pré-processamento dos dados"
   ]
  },
  {
   "cell_type": "markdown",
   "metadata": {
    "id": "q-Xss-RY2tml"
   },
   "source": [
    "### Tratamento da variável ordinal `ESCT` (Estado Civil)\n",
    "\n",
    "A variável `ESCT` (Estado Civil) assume valores **numéricos (1, 2, 3, 4)**, mas **não representa uma quantidade mensurável**.  \n",
    "Esses números indicam **categorias ordinais** — ou seja, há uma **ordem lógica** entre os valores (por exemplo, solteiro < casado < divorciado < viúvo), porém as **distâncias entre eles não têm significado numérico**.\n",
    "\n",
    "Em modelos de aprendizado de máquina, especialmente aqueles baseados em distâncias (como *k*-NN) ou relações lineares (como regressão logística), interpretar diretamente esses números como se fossem quantitativos pode introduzir **viés** e **interpretações incorretas**.  \n",
    "\n",
    "Para lidar adequadamente com essa variável, há duas abordagens principais:\n",
    "\n",
    "1. **Codificação ordinal explícita**  \n",
    "   Mantém os valores 1, 2, 3, 4, desde que a ordem tenha um significado real (por exemplo, nível de escolaridade).  \n",
    "   Essa abordagem é apropriada quando a progressão entre categorias é interpretável.\n",
    "\n",
    "2. **Codificação *dummy* (ou *one-hot encoding*)**  \n",
    "   Transforma `ESCT` em **variáveis binárias** — uma para cada categoria — de forma que:\n",
    "   - Cada variável assume valor **1** se o registro pertence àquela categoria, e **0** caso contrário.  \n",
    "   - Se houver 4 categorias, serão geradas **4 variáveis binárias** (`ESCT_1`, `ESCT_2`, `ESCT_3`, `ESCT_4`).\n",
    "\n",
    "   No entanto, em modelos lineares é recomendável utilizar apenas **\\( n - 1 \\)** variáveis *dummy* (neste caso, **3**) para evitar **multicolinearidade perfeita**, conhecida como *dummy variable trap*.  \n",
    "   A categoria omitida atua como **referência** para as demais.\n",
    "\n",
    "Em resumo:\n",
    "- Embora `ESCT` contenha números, eles representam **categorias ordinais**, não valores contínuos.  \n",
    "- A escolha entre **codificação ordinal** e **codificação *dummy*** depende do tipo de modelo e da natureza da variável.  \n",
    "- Em modelos lineares, **utilizar \\( n - 1 \\)** dummies é uma prática essencial para evitar redundâncias estatísticas."
   ]
  },
  {
   "cell_type": "code",
   "execution_count": 7,
   "metadata": {
    "colab": {
     "base_uri": "https://localhost:8080/",
     "height": 206
    },
    "executionInfo": {
     "elapsed": 65,
     "status": "ok",
     "timestamp": 1645810085279,
     "user": {
      "displayName": "Thiago Ferreira",
      "photoUrl": "https://lh3.googleusercontent.com/a/default-user=s64",
      "userId": "11691299862555252725"
     },
     "user_tz": 180
    },
    "id": "yErjVPa6_uCo",
    "outputId": "14a4e2f8-d39f-4d04-b51c-741bc2e37b9c"
   },
   "outputs": [
    {
     "data": {
      "text/html": [
       "<div>\n",
       "<style scoped>\n",
       "    .dataframe tbody tr th:only-of-type {\n",
       "        vertical-align: middle;\n",
       "    }\n",
       "\n",
       "    .dataframe tbody tr th {\n",
       "        vertical-align: top;\n",
       "    }\n",
       "\n",
       "    .dataframe thead th {\n",
       "        text-align: right;\n",
       "    }\n",
       "</style>\n",
       "<table border=\"1\" class=\"dataframe\">\n",
       "  <thead>\n",
       "    <tr style=\"text-align: right;\">\n",
       "      <th></th>\n",
       "      <th>NDEP</th>\n",
       "      <th>RENDA</th>\n",
       "      <th>TIPOR</th>\n",
       "      <th>VBEM</th>\n",
       "      <th>NPARC</th>\n",
       "      <th>VPARC</th>\n",
       "      <th>TEL</th>\n",
       "      <th>IDADE</th>\n",
       "      <th>RESMS</th>\n",
       "      <th>ENTRADA</th>\n",
       "      <th>CLASSE</th>\n",
       "      <th>ESCT_1</th>\n",
       "      <th>ESCT_2</th>\n",
       "      <th>ESCT_3</th>\n",
       "    </tr>\n",
       "  </thead>\n",
       "  <tbody>\n",
       "    <tr>\n",
       "      <th>0</th>\n",
       "      <td>0</td>\n",
       "      <td>360</td>\n",
       "      <td>0</td>\n",
       "      <td>313</td>\n",
       "      <td>9</td>\n",
       "      <td>52</td>\n",
       "      <td>0</td>\n",
       "      <td>25</td>\n",
       "      <td>48</td>\n",
       "      <td>0</td>\n",
       "      <td>1</td>\n",
       "      <td>True</td>\n",
       "      <td>False</td>\n",
       "      <td>False</td>\n",
       "    </tr>\n",
       "    <tr>\n",
       "      <th>1</th>\n",
       "      <td>0</td>\n",
       "      <td>350</td>\n",
       "      <td>1</td>\n",
       "      <td>468</td>\n",
       "      <td>10</td>\n",
       "      <td>65</td>\n",
       "      <td>0</td>\n",
       "      <td>33</td>\n",
       "      <td>6</td>\n",
       "      <td>0</td>\n",
       "      <td>1</td>\n",
       "      <td>False</td>\n",
       "      <td>False</td>\n",
       "      <td>False</td>\n",
       "    </tr>\n",
       "    <tr>\n",
       "      <th>2</th>\n",
       "      <td>0</td>\n",
       "      <td>1100</td>\n",
       "      <td>0</td>\n",
       "      <td>829</td>\n",
       "      <td>9</td>\n",
       "      <td>125</td>\n",
       "      <td>0</td>\n",
       "      <td>56</td>\n",
       "      <td>48</td>\n",
       "      <td>0</td>\n",
       "      <td>1</td>\n",
       "      <td>False</td>\n",
       "      <td>False</td>\n",
       "      <td>False</td>\n",
       "    </tr>\n",
       "    <tr>\n",
       "      <th>3</th>\n",
       "      <td>0</td>\n",
       "      <td>3000</td>\n",
       "      <td>0</td>\n",
       "      <td>552</td>\n",
       "      <td>12</td>\n",
       "      <td>76</td>\n",
       "      <td>1</td>\n",
       "      <td>31</td>\n",
       "      <td>60</td>\n",
       "      <td>0</td>\n",
       "      <td>1</td>\n",
       "      <td>False</td>\n",
       "      <td>False</td>\n",
       "      <td>False</td>\n",
       "    </tr>\n",
       "    <tr>\n",
       "      <th>4</th>\n",
       "      <td>0</td>\n",
       "      <td>1000</td>\n",
       "      <td>0</td>\n",
       "      <td>809</td>\n",
       "      <td>12</td>\n",
       "      <td>111</td>\n",
       "      <td>0</td>\n",
       "      <td>24</td>\n",
       "      <td>7</td>\n",
       "      <td>0</td>\n",
       "      <td>1</td>\n",
       "      <td>True</td>\n",
       "      <td>False</td>\n",
       "      <td>False</td>\n",
       "    </tr>\n",
       "  </tbody>\n",
       "</table>\n",
       "</div>"
      ],
      "text/plain": [
       "   NDEP  RENDA  TIPOR  VBEM  NPARC  VPARC  TEL  IDADE  RESMS  ENTRADA  CLASSE  \\\n",
       "0     0    360      0   313      9     52    0     25     48        0       1   \n",
       "1     0    350      1   468     10     65    0     33      6        0       1   \n",
       "2     0   1100      0   829      9    125    0     56     48        0       1   \n",
       "3     0   3000      0   552     12     76    1     31     60        0       1   \n",
       "4     0   1000      0   809     12    111    0     24      7        0       1   \n",
       "\n",
       "   ESCT_1  ESCT_2  ESCT_3  \n",
       "0    True   False   False  \n",
       "1   False   False   False  \n",
       "2   False   False   False  \n",
       "3   False   False   False  \n",
       "4    True   False   False  "
      ]
     },
     "execution_count": 7,
     "metadata": {},
     "output_type": "execute_result"
    }
   ],
   "source": [
    "# Aplicação no conjunto de treinamento\n",
    "data_train_new = pd.get_dummies(data = data_train, \n",
    "                                prefix='ESCT', \n",
    "                                columns=['ESCT'], \n",
    "                                drop_first=True)\n",
    "\n",
    "\"\"\"\n",
    "pd.get_dummies: Convert categorical variable into dummy/indicator variables.\n",
    "\"\"\"\n",
    "\n",
    "# Inspeção das primeiras linhas\n",
    "data_train_new.head()"
   ]
  },
  {
   "cell_type": "code",
   "execution_count": 8,
   "metadata": {
    "colab": {
     "base_uri": "https://localhost:8080/",
     "height": 206
    },
    "executionInfo": {
     "elapsed": 60,
     "status": "ok",
     "timestamp": 1645810085280,
     "user": {
      "displayName": "Thiago Ferreira",
      "photoUrl": "https://lh3.googleusercontent.com/a/default-user=s64",
      "userId": "11691299862555252725"
     },
     "user_tz": 180
    },
    "id": "hI9UgoSS_uCp",
    "outputId": "df266189-28dd-4d7a-da83-447482f01ba2"
   },
   "outputs": [
    {
     "data": {
      "text/html": [
       "<div>\n",
       "<style scoped>\n",
       "    .dataframe tbody tr th:only-of-type {\n",
       "        vertical-align: middle;\n",
       "    }\n",
       "\n",
       "    .dataframe tbody tr th {\n",
       "        vertical-align: top;\n",
       "    }\n",
       "\n",
       "    .dataframe thead th {\n",
       "        text-align: right;\n",
       "    }\n",
       "</style>\n",
       "<table border=\"1\" class=\"dataframe\">\n",
       "  <thead>\n",
       "    <tr style=\"text-align: right;\">\n",
       "      <th></th>\n",
       "      <th>NDEP</th>\n",
       "      <th>RENDA</th>\n",
       "      <th>TIPOR</th>\n",
       "      <th>VBEM</th>\n",
       "      <th>NPARC</th>\n",
       "      <th>VPARC</th>\n",
       "      <th>TEL</th>\n",
       "      <th>IDADE</th>\n",
       "      <th>RESMS</th>\n",
       "      <th>ENTRADA</th>\n",
       "      <th>CLASSE</th>\n",
       "      <th>ESCT_1</th>\n",
       "      <th>ESCT_2</th>\n",
       "      <th>ESCT_3</th>\n",
       "    </tr>\n",
       "  </thead>\n",
       "  <tbody>\n",
       "    <tr>\n",
       "      <th>0</th>\n",
       "      <td>2</td>\n",
       "      <td>500</td>\n",
       "      <td>1</td>\n",
       "      <td>618</td>\n",
       "      <td>10</td>\n",
       "      <td>85</td>\n",
       "      <td>0</td>\n",
       "      <td>36</td>\n",
       "      <td>6</td>\n",
       "      <td>0</td>\n",
       "      <td>0</td>\n",
       "      <td>False</td>\n",
       "      <td>False</td>\n",
       "      <td>False</td>\n",
       "    </tr>\n",
       "    <tr>\n",
       "      <th>1</th>\n",
       "      <td>0</td>\n",
       "      <td>813</td>\n",
       "      <td>0</td>\n",
       "      <td>552</td>\n",
       "      <td>4</td>\n",
       "      <td>119</td>\n",
       "      <td>0</td>\n",
       "      <td>43</td>\n",
       "      <td>48</td>\n",
       "      <td>119</td>\n",
       "      <td>1</td>\n",
       "      <td>True</td>\n",
       "      <td>False</td>\n",
       "      <td>False</td>\n",
       "    </tr>\n",
       "    <tr>\n",
       "      <th>2</th>\n",
       "      <td>0</td>\n",
       "      <td>350</td>\n",
       "      <td>0</td>\n",
       "      <td>488</td>\n",
       "      <td>12</td>\n",
       "      <td>66</td>\n",
       "      <td>0</td>\n",
       "      <td>43</td>\n",
       "      <td>0</td>\n",
       "      <td>0</td>\n",
       "      <td>1</td>\n",
       "      <td>False</td>\n",
       "      <td>False</td>\n",
       "      <td>True</td>\n",
       "    </tr>\n",
       "    <tr>\n",
       "      <th>3</th>\n",
       "      <td>0</td>\n",
       "      <td>1530</td>\n",
       "      <td>0</td>\n",
       "      <td>381</td>\n",
       "      <td>1</td>\n",
       "      <td>398</td>\n",
       "      <td>0</td>\n",
       "      <td>28</td>\n",
       "      <td>48</td>\n",
       "      <td>0</td>\n",
       "      <td>1</td>\n",
       "      <td>True</td>\n",
       "      <td>False</td>\n",
       "      <td>False</td>\n",
       "    </tr>\n",
       "    <tr>\n",
       "      <th>4</th>\n",
       "      <td>0</td>\n",
       "      <td>688</td>\n",
       "      <td>1</td>\n",
       "      <td>396</td>\n",
       "      <td>10</td>\n",
       "      <td>60</td>\n",
       "      <td>0</td>\n",
       "      <td>49</td>\n",
       "      <td>72</td>\n",
       "      <td>0</td>\n",
       "      <td>1</td>\n",
       "      <td>False</td>\n",
       "      <td>False</td>\n",
       "      <td>False</td>\n",
       "    </tr>\n",
       "  </tbody>\n",
       "</table>\n",
       "</div>"
      ],
      "text/plain": [
       "   NDEP  RENDA  TIPOR  VBEM  NPARC  VPARC  TEL  IDADE  RESMS  ENTRADA  CLASSE  \\\n",
       "0     2    500      1   618     10     85    0     36      6        0       0   \n",
       "1     0    813      0   552      4    119    0     43     48      119       1   \n",
       "2     0    350      0   488     12     66    0     43      0        0       1   \n",
       "3     0   1530      0   381      1    398    0     28     48        0       1   \n",
       "4     0    688      1   396     10     60    0     49     72        0       1   \n",
       "\n",
       "   ESCT_1  ESCT_2  ESCT_3  \n",
       "0   False   False   False  \n",
       "1    True   False   False  \n",
       "2   False   False    True  \n",
       "3    True   False   False  \n",
       "4   False   False   False  "
      ]
     },
     "execution_count": 8,
     "metadata": {},
     "output_type": "execute_result"
    }
   ],
   "source": [
    "# Aplicação da transformação sobre o conjunto de teste\n",
    "data_test_new = pd.get_dummies(data = data_test, prefix='ESCT', columns=['ESCT'], drop_first=True)\n",
    "\n",
    "\"\"\"\n",
    "pd.get_dummies: Convert categorical variable into dummy/indicator variables\n",
    "\"\"\"\n",
    "\n",
    "# Inspeção das primeiras linhas\n",
    "data_test_new.head()"
   ]
  },
  {
   "cell_type": "markdown",
   "metadata": {
    "id": "yRkwEDzO91ZB"
   },
   "source": [
    "**Separação do conjunto de dados em rótulo ($\\mathrm{y}$) e features ($\\mathrm{x}$)**\n",
    "\n",
    "O rótulo ($\\mathrm{y}$) corresponde ao vetor contendo a variável alvo (CLASSE), enquanto que features ($\\mathrm{x}$) corresponde à matriz de dados."
   ]
  },
  {
   "cell_type": "code",
   "execution_count": 9,
   "metadata": {
    "colab": {
     "base_uri": "https://localhost:8080/"
    },
    "executionInfo": {
     "elapsed": 58,
     "status": "ok",
     "timestamp": 1645810085281,
     "user": {
      "displayName": "Thiago Ferreira",
      "photoUrl": "https://lh3.googleusercontent.com/a/default-user=s64",
      "userId": "11691299862555252725"
     },
     "user_tz": 180
    },
    "id": "mxKjqguU_uCr",
    "outputId": "dcf805fa-78b8-4366-e749-613df9f45271"
   },
   "outputs": [
    {
     "data": {
      "text/plain": [
       "array([1, 1, 1, 1, 1])"
      ]
     },
     "execution_count": 9,
     "metadata": {},
     "output_type": "execute_result"
    }
   ],
   "source": [
    "# Transformação da variável alvo do conjunto de treinamento em vetor\n",
    "y_train = np.array(data_train_new['CLASSE'])\n",
    "\n",
    "# Inspeção das primeira linhas\n",
    "y_train[:5]"
   ]
  },
  {
   "cell_type": "code",
   "execution_count": 10,
   "metadata": {
    "colab": {
     "base_uri": "https://localhost:8080/"
    },
    "executionInfo": {
     "elapsed": 52,
     "status": "ok",
     "timestamp": 1645810085281,
     "user": {
      "displayName": "Thiago Ferreira",
      "photoUrl": "https://lh3.googleusercontent.com/a/default-user=s64",
      "userId": "11691299862555252725"
     },
     "user_tz": 180
    },
    "id": "9bIZH23c_uCt",
    "outputId": "7ef99b23-437c-449c-bc78-2e738e47e49b"
   },
   "outputs": [
    {
     "data": {
      "text/plain": [
       "array([0, 1, 1, 1, 1])"
      ]
     },
     "execution_count": 10,
     "metadata": {},
     "output_type": "execute_result"
    }
   ],
   "source": [
    "# Transformação da variável alvo do conjunto de teste em vetor\n",
    "y_test = np.array(data_test_new['CLASSE'])\n",
    "\n",
    "# Inspeção das primeiras linhas\n",
    "y_test[:5]"
   ]
  },
  {
   "cell_type": "markdown",
   "metadata": {},
   "source": [
    "### Divisão do conjunto de dados em treino e validação\n",
    "\n",
    "Nesta etapa, realizamos a separação do conjunto de dados original em duas partes: \n",
    "- treinamento (80%)\n",
    "- validação (20%)\n",
    "\n",
    "Esse procedimento é essencial para avaliar o desempenho do modelo em dados não vistos durante o processo de aprendizado, ajudando a identificar possíveis problemas de overfitting.\n",
    "\n",
    "Os passos executados são:\n",
    "\n",
    "1. **Seleção das variáveis preditoras e da variável-alvo:**\n",
    "   - As colunas de `data_train_new` são listadas.\n",
    "   - A coluna `'CLASSE'`, que representa a variável-alvo (rótulo ou classe), é removida da lista de features.\n",
    "   - Em seguida, as features e os rótulos são convertidos em matrizes NumPy (`X` e `y`) para facilitar o uso em modelos de aprendizado de máquina.\n",
    "\n",
    "2. **Divisão dos dados com `train_test_split`:**\n",
    "   - Utiliza-se o método `train_test_split` da biblioteca **scikit-learn** para dividir os dados:\n",
    "     ```python\n",
    "     X_train, X_val, y_train, y_val = train_test_split(X, y, test_size=0.2, random_state=42, stratify=y)\n",
    "     ```\n",
    "   - **`test_size=0.2`** → reserva 20% dos dados para validação.  \n",
    "   - **`random_state=42`** → garante reprodutibilidade da divisão.  \n",
    "   - **`stratify=y`** → mantém a mesma proporção de classes em ambos os conjuntos (boa prática para dados desbalanceados).\n",
    "\n",
    "3. **Verificação das dimensões:**\n",
    "   - O comando `print()` exibe as formas (`shape`) das matrizes resultantes para confirmar a correta divisão entre treino e validação.\n",
    "\n",
    "Ao final, temos:\n",
    "- `X_train`, `y_train` → usados para ajustar (treinar) o modelo.  \n",
    "- `X_val`, `y_val` → usados para avaliar o desempenho em dados não vistos durante o treino."
   ]
  },
  {
   "cell_type": "code",
   "execution_count": 11,
   "metadata": {
    "colab": {
     "base_uri": "https://localhost:8080/"
    },
    "executionInfo": {
     "elapsed": 50,
     "status": "ok",
     "timestamp": 1645810085282,
     "user": {
      "displayName": "Thiago Ferreira",
      "photoUrl": "https://lh3.googleusercontent.com/a/default-user=s64",
      "userId": "11691299862555252725"
     },
     "user_tz": 180
    },
    "id": "J7YkPky3_uCv",
    "outputId": "c9bf9bc4-b1fa-402a-a7b2-8c3bfd8c66b9"
   },
   "outputs": [
    {
     "name": "stdout",
     "output_type": "stream",
     "text": [
      "X_train: (1200, 13)\n",
      "X_val: (300, 13)\n",
      "y_train: (1200,)\n",
      "y_val: (300,)\n"
     ]
    }
   ],
   "source": [
    "from sklearn.model_selection import train_test_split\n",
    "import numpy as np\n",
    "\n",
    "# --- Seleção das features ---\n",
    "features_name_train = list(data_train_new.columns)\n",
    "features_name_train.remove('CLASSE')  # remove variável alvo\n",
    "\n",
    "# --- Construção das matrizes de features e rótulos ---\n",
    "X = np.array(data_train_new.loc[:, features_name_train])\n",
    "y = np.array(data_train_new['CLASSE'])\n",
    "\n",
    "# --- Divisão: 80% treino, 20% validação ---\n",
    "X_train, X_val, y_train, y_val = train_test_split(\n",
    "    X, y, \n",
    "    test_size=0.2,      # 20% para validação\n",
    "    random_state=42,    # para reprodutibilidade\n",
    "    stratify=y          # mantém proporções de classes (boa prática)\n",
    ")\n",
    "\n",
    "# --- Inspeção ---\n",
    "print(\"X_train:\", X_train.shape)\n",
    "print(\"X_val:\", X_val.shape)\n",
    "print(\"y_train:\", y_train.shape)\n",
    "print(\"y_val:\", y_val.shape)"
   ]
  },
  {
   "cell_type": "code",
   "execution_count": 12,
   "metadata": {
    "colab": {
     "base_uri": "https://localhost:8080/"
    },
    "executionInfo": {
     "elapsed": 48,
     "status": "ok",
     "timestamp": 1645810085283,
     "user": {
      "displayName": "Thiago Ferreira",
      "photoUrl": "https://lh3.googleusercontent.com/a/default-user=s64",
      "userId": "11691299862555252725"
     },
     "user_tz": 180
    },
    "id": "Zl5JbSo2_uCw",
    "outputId": "0ea7e620-70ca-47fa-ef59-10e50706e8a4"
   },
   "outputs": [
    {
     "data": {
      "text/plain": [
       "array([[2, 500, 1, ..., False, False, False],\n",
       "       [0, 813, 0, ..., True, False, False],\n",
       "       [0, 350, 0, ..., False, False, True],\n",
       "       ...,\n",
       "       [3, 1200, 0, ..., False, False, False],\n",
       "       [0, 600, 0, ..., True, False, False],\n",
       "       [0, 800, 1, ..., False, False, False]], dtype=object)"
      ]
     },
     "execution_count": 12,
     "metadata": {},
     "output_type": "execute_result"
    }
   ],
   "source": [
    "# Transformação do conjunto de teste remanescente em matriz de dados\n",
    "features_name_test = list(data_test_new.columns)               # Recuperação dos nomes das colunas\n",
    "features_name_test.remove('CLASSE')                            # Remoção da variável \"CLASSE\"\n",
    "X_test = np.array(data_test_new.loc[:, features_name_test])   # Transformação em matriz\n",
    "\n",
    "# Inspeção da matriz resultante\n",
    "X_test"
   ]
  },
  {
   "cell_type": "markdown",
   "metadata": {
    "id": "Rd9a5XDvDmso"
   },
   "source": [
    "### Padronização das variáveis preditoras (features)\n",
    "\n",
    "Nesta etapa, aplicamos a **padronização** (*standardization*) das variáveis de entrada usando o `StandardScaler` da biblioteca **scikit-learn**.  \n",
    "\n",
    "A padronização é uma técnica de pré-processamento que transforma cada feature para ter:\n",
    "- **média igual a 0**\n",
    "- **desvio padrão igual a 1**\n",
    "\n",
    "Isso é importante para garantir que todas as variáveis contribuam de forma equilibrada durante o treinamento da rede neural, evitando que atributos com escalas maiores dominem o processo de otimização.\n",
    "\n",
    "As etapas são as seguintes:\n",
    "\n",
    "1. **Criação do objeto `StandardScaler`:**  \n",
    "   ```python\n",
    "   scaler = StandardScaler()\n",
    "   ```\n",
    "\n",
    "Esse objeto armazenará os parâmetros de normalização (médias e desvios padrão).\n",
    "\n",
    "2. **Ajuste e transformação do conjunto de treino:**\n",
    "\n",
    "   ```python\n",
    "   X_train_norm = scaler.fit_transform(X_train)\n",
    "   ```\n",
    "\n",
    "   O método `fit_transform()` calcula as estatísticas (média e desvio padrão) **com base apenas no conjunto de treino** e aplica a padronização.\n",
    "\n",
    "3. **Transformação dos conjuntos de validação e teste:**\n",
    "\n",
    "   ```python\n",
    "   X_val_norm = scaler.transform(X_val)\n",
    "   X_test_norm = scaler.transform(X_test)\n",
    "   ```\n",
    "\n",
    "   Aqui utilizamos **os mesmos parâmetros** calculados no treino, garantindo consistência entre os conjuntos.\n",
    "\n",
    "4. **Verificação das dimensões:**\n",
    "   O comando final imprime as dimensões das matrizes resultantes para confirmar que o número de amostras e features foi preservado após a padronização.\n",
    "\n",
    "Essa prática evita *data leakage* (vazamento de informação) e assegura que o modelo aprenda apenas a partir das estatísticas do conjunto de treino."
   ]
  },
  {
   "cell_type": "code",
   "execution_count": 13,
   "metadata": {
    "executionInfo": {
     "elapsed": 44,
     "status": "ok",
     "timestamp": 1645810085283,
     "user": {
      "displayName": "Thiago Ferreira",
      "photoUrl": "https://lh3.googleusercontent.com/a/default-user=s64",
      "userId": "11691299862555252725"
     },
     "user_tz": 180
    },
    "id": "CNkkpj63EedQ"
   },
   "outputs": [
    {
     "name": "stdout",
     "output_type": "stream",
     "text": [
      "(1200, 13) (577, 13) (1200,) (577,)\n"
     ]
    }
   ],
   "source": [
    "# Criação do objeto para a padronização das features\n",
    "scaler = StandardScaler()\n",
    "\n",
    "# Ajustamento do StandardScaler ao conjunto de dados de treino e padronização dos dados de treino\n",
    "X_train_norm = scaler.fit_transform(X_train)\n",
    "\n",
    "# Transformação dos dados de validação e teste com os parâmetros ajustados a partir dos dados de treino\n",
    "X_val_norm = scaler.transform(X_val)\n",
    "X_test_norm = scaler.transform(X_test)\n",
    "\n",
    "# Dimensões dos datasets\n",
    "print(X_train_norm.shape, X_test_norm.shape, y_train.shape, y_test.shape)"
   ]
  },
  {
   "cell_type": "markdown",
   "metadata": {
    "id": "XIe5k4w4kA-B"
   },
   "source": [
    "## Treinamento do modelo"
   ]
  },
  {
   "cell_type": "markdown",
   "metadata": {
    "id": "Lr2rKaqi7ePC"
   },
   "source": [
    "No trecho de código a seguir, foi realizada uma transformação dos dados em vetores para tensores.\n",
    "Esses dados ficaram armazenados nas variáveis x_train, y_train, x_test, y_test.\n",
    "\n",
    "Essa transformação foi feita porque posteriormente iremos utilizá-las como parâmetro para o dataloader."
   ]
  },
  {
   "cell_type": "markdown",
   "metadata": {},
   "source": [
    "### Conversão dos conjuntos de dados em tensores do PyTorch\n",
    "\n",
    "Nesta etapa, convertemos as matrizes NumPy normalizadas (`X_train_norm`, `X_val_norm`, `X_test_norm`) e os vetores de rótulos (`y_train`, `y_val`, `y_test`) em tensores do PyTorch.  \n",
    "\n",
    "- As **features** (`x_train`, `x_val`, `x_test`) são convertidas para o tipo `float32`, pois as operações da rede neural são realizadas com valores contínuos.\n",
    "- Os **rótulos** (`y_train`, `y_val`, `y_test`) são convertidos para o tipo `long` (inteiros de 64 bits), pois a função de perda `F.cross_entropy` exige que as classes sejam representadas por índices inteiros.\n",
    "- Em seguida, imprimimos os *shapes* dos tensores para verificar se o número de amostras e as dimensões estão consistentes entre `x` e `y` em cada subconjunto (treinamento, validação e teste).\n",
    "\n",
    "Essa conversão é essencial antes de criarmos os objetos `TensorDataset` e `DataLoader`, que serão usados nas fases de treinamento e avaliação do modelo.\n"
   ]
  },
  {
   "cell_type": "code",
   "execution_count": 14,
   "metadata": {
    "colab": {
     "base_uri": "https://localhost:8080/"
    },
    "executionInfo": {
     "elapsed": 28,
     "status": "ok",
     "timestamp": 1645810085634,
     "user": {
      "displayName": "Thiago Ferreira",
      "photoUrl": "https://lh3.googleusercontent.com/a/default-user=s64",
      "userId": "11691299862555252725"
     },
     "user_tz": 180
    },
    "id": "y6uEKZ6KqbVR",
    "outputId": "b56e1bdf-bb7a-497c-dcc2-d20be0adf650"
   },
   "outputs": [
    {
     "name": "stdout",
     "output_type": "stream",
     "text": [
      "torch.Size([1200, 13])\n",
      "torch.Size([1200])\n",
      "torch.Size([300, 13])\n",
      "torch.Size([300])\n",
      "torch.Size([577, 13])\n",
      "torch.Size([577])\n",
      "Train set: torch.Size([1200, 13]), classes: tensor([0, 1])\n",
      "Val set:   torch.Size([300, 13]), classes: tensor([0, 1])\n",
      "Test set:  torch.Size([577, 13]), classes: tensor([0, 1])\n"
     ]
    }
   ],
   "source": [
    "# Conversão de features normalizadas\n",
    "x_train = torch.from_numpy(X_train_norm).float()\n",
    "x_val = torch.from_numpy(X_val_norm).float()\n",
    "x_test = torch.from_numpy(X_test_norm).float()\n",
    "\n",
    "# Conversão de rótulos (labels)\n",
    "y_train = torch.from_numpy(y_train).long()\n",
    "y_val = torch.from_numpy(y_val).long()\n",
    "y_test = torch.from_numpy(y_test).long()\n",
    "\n",
    "print(x_train.shape)\n",
    "print(y_train.shape)\n",
    "\n",
    "print(x_val.shape)\n",
    "print(y_val.shape)\n",
    "\n",
    "print(x_test.shape)\n",
    "print(y_test.shape)\n",
    "\n",
    "print(f\"Train set: {x_train.shape}, classes: {torch.unique(y_train)}\")\n",
    "print(f\"Val set:   {x_val.shape}, classes: {torch.unique(y_val)}\")\n",
    "print(f\"Test set:  {x_test.shape}, classes: {torch.unique(y_test)}\")"
   ]
  },
  {
   "cell_type": "markdown",
   "metadata": {
    "id": "7m4X2Jgm76IP"
   },
   "source": [
    "### Criação dos conjuntos de dados (`TensorDataset`)\n",
    "\n",
    "Após a conversão das matrizes NumPy em tensores do PyTorch (`x_train`, `y_train`, `x_val`, `y_val`), o próximo passo é organizá-los em objetos do tipo **`TensorDataset`**.\n",
    "\n",
    "O `TensorDataset` é uma estrutura da biblioteca **`torch.utils.data`** que permite **agrupar tensores correspondentes** — normalmente, as **features** (`x`) e os **rótulos** (`y`) — em um único objeto de dados.  \n",
    "Cada posição `i` do dataset contém um **par (xᵢ, yᵢ)**, facilitando a iteração durante o treinamento e a validação do modelo.\n",
    "\n",
    "No código abaixo:\n",
    "```python\n",
    "from torch.utils.data.dataset import TensorDataset\n",
    "\n",
    "train_ds = TensorDataset(x_train, y_train)\n",
    "val_ds   = TensorDataset(x_val, y_val)\n",
    "```\n",
    "\n",
    "- train_ds armazena os dados do conjunto de treinamento;\n",
    "\n",
    "- val_ds armazena os dados do conjunto de validação.\n",
    "\n",
    "Esses objetos serão posteriormente utilizados pelos DataLoaders, que gerenciam a leitura dos dados em batches e a aleatorização (embaralhamento) durante o processo de aprendizado.\n",
    "\n",
    "Em resumo:\n",
    "\n",
    "- TensorDataset cria um dataset emparelhado a partir de tensores correspondentes.\n",
    "\n",
    "- Cada elemento do dataset contém (amostra, rótulo).\n",
    "\n",
    "- É a estrutura intermediária usada antes da criação dos DataLoaders."
   ]
  },
  {
   "cell_type": "code",
   "execution_count": 15,
   "metadata": {
    "executionInfo": {
     "elapsed": 24,
     "status": "ok",
     "timestamp": 1645810085635,
     "user": {
      "displayName": "Thiago Ferreira",
      "photoUrl": "https://lh3.googleusercontent.com/a/default-user=s64",
      "userId": "11691299862555252725"
     },
     "user_tz": 180
    },
    "id": "eh62jE6auFUi"
   },
   "outputs": [],
   "source": [
    "from torch.utils.data.dataset import TensorDataset\n",
    "\n",
    "train_ds = TensorDataset(x_train, y_train)\n",
    "val_ds = TensorDataset(x_val, y_val)"
   ]
  },
  {
   "cell_type": "markdown",
   "metadata": {
    "id": "ZpROFSnR8ZTA"
   },
   "source": [
    "Abaixo temos o código necessário para verificar a taxa de acurácia da nossa rede. Esse método será necessário para verificar quão bom foi o processo de aprendizado da rede. Ele será invocado a partir do método `fit`, que será implementado mais a frente."
   ]
  },
  {
   "cell_type": "code",
   "execution_count": 16,
   "metadata": {
    "executionInfo": {
     "elapsed": 24,
     "status": "ok",
     "timestamp": 1645810085635,
     "user": {
      "displayName": "Thiago Ferreira",
      "photoUrl": "https://lh3.googleusercontent.com/a/default-user=s64",
      "userId": "11691299862555252725"
     },
     "user_tz": 180
    },
    "id": "hHxNB4MNXUJM"
   },
   "outputs": [],
   "source": [
    "def accuracy(outputs, labels):\n",
    "    _, preds = torch.max(outputs, dim=1)\n",
    "    return torch.tensor(torch.sum(preds == labels).item() / len(preds))"
   ]
  },
  {
   "cell_type": "markdown",
   "metadata": {
    "id": "uWdr3Tnd8rjN"
   },
   "source": [
    "### Criação dos *DataLoaders* para treino e validação\n",
    "\n",
    "Após a criação dos conjuntos `TensorDataset` (`train_ds` e `val_ds`), o próximo passo é utilizar o objeto **`DataLoader`** do PyTorch para facilitar o processo de treinamento do modelo.\n",
    "\n",
    "O **`DataLoader`** é responsável por:\n",
    "- Dividir os dados em **lotes (*batches*)** de tamanho definido;\n",
    "- **Embaralhar** (shuffle) os exemplos a cada época, evitando que o modelo aprenda uma ordem fixa;\n",
    "- Permitir o **acesso iterativo** aos dados, otimizando o uso de memória e processamento.\n",
    "\n",
    "No código abaixo:\n",
    "\n",
    "```python\n",
    "batch_size = 40\n",
    "train_loader = DataLoader(train_ds, batch_size, shuffle=True)\n",
    "val_loader   = DataLoader(val_ds, batch_size)\n",
    "```\n",
    "\n",
    "- batch_size = 40 define que cada lote conterá 40 amostras.\n",
    "Isso significa que, em cada passo de treinamento, o modelo verá 40 exemplos antes de atualizar seus pesos.\n",
    "O uso de mini-batches é uma prática comum que equilibra desempenho computacional e estabilidade do gradiente.\n",
    "\n",
    "- train_loader é criado com shuffle=True, o que embaralha os dados do conjunto de treino a cada época — uma boa prática para evitar padrões indesejados na sequência dos exemplos.\n",
    "\n",
    "- val_loader é criado sem embaralhamento, pois na validação não há aprendizado nem atualização de pesos, e manter a ordem não afeta o resultado.\n",
    "\n",
    "Em resumo:\n",
    "\n",
    "- DataLoader organiza e fornece os dados em lotes.\n",
    "\n",
    "- shuffle=True é usado apenas no treinamento.\n",
    "\n",
    "- Essa estrutura permite que o loop de treinamento (for batch in train_loader) acesse os dados de forma eficiente e controlada."
   ]
  },
  {
   "cell_type": "code",
   "execution_count": 17,
   "metadata": {
    "executionInfo": {
     "elapsed": 22,
     "status": "ok",
     "timestamp": 1645810085637,
     "user": {
      "displayName": "Thiago Ferreira",
      "photoUrl": "https://lh3.googleusercontent.com/a/default-user=s64",
      "userId": "11691299862555252725"
     },
     "user_tz": 180
    },
    "id": "etZ34Hz6raYs"
   },
   "outputs": [],
   "source": [
    "batch_size = 40\n",
    "train_loader = DataLoader(train_ds, batch_size, shuffle=True)\n",
    "val_loader = DataLoader(val_ds, batch_size)"
   ]
  },
  {
   "cell_type": "markdown",
   "metadata": {
    "id": "PvIJR52J-KU0"
   },
   "source": [
    "### Definição do modelo de Regressão Logística com PyTorch\n",
    "\n",
    "Agora definimos a classe `LogisticModel`, que implementa um modelo de **regressão logística** utilizando o módulo `nn.Module` do PyTorch.  \n",
    "Esse modelo é o equivalente a uma **camada linear seguida de uma função de ativação *softmax*** (implícita dentro da função de perda `cross_entropy`).\n",
    "\n",
    "Abaixo temos a implementação da classe `LogisticModel`, que estende a classe `Module` do pacote `nn`. Essa classe carrega a lógica de treinamento e avaliação da rede, e apresenta uma lista de métodos:\n",
    "\n",
    "- `training_step`: realiza as predições e calcula as perdas durante a fase de treinamento.\n",
    "\n",
    "- `validation_step`: realiza as predições, calcula as perdas e verifica a taxa de acurácia durante a fase de avaliação.\n",
    "\n",
    "- `validation_epoch_end`: retornar as perdas e as acurácias.\n",
    "\n",
    "- `epoch_end`: imprime as perdas e acurácias obtidas ao fim de uma época de treinamento."
   ]
  },
  {
   "cell_type": "code",
   "execution_count": 18,
   "metadata": {
    "executionInfo": {
     "elapsed": 22,
     "status": "ok",
     "timestamp": 1645810085638,
     "user": {
      "displayName": "Thiago Ferreira",
      "photoUrl": "https://lh3.googleusercontent.com/a/default-user=s64",
      "userId": "11691299862555252725"
     },
     "user_tz": 180
    },
    "id": "ECdXr_LNZ_L_"
   },
   "outputs": [],
   "source": [
    "class LogisticModel(nn.Module):\n",
    "    def __init__(self, input_size, num_classes):\n",
    "        super().__init__()\n",
    "        self.linear = nn.Linear(input_size, num_classes).float()\n",
    "        \n",
    "    def forward(self, xb):\n",
    "        return self.linear(xb)\n",
    "    \n",
    "    def compute_loss(self, batch):\n",
    "        \"\"\"Compute training loss for one batch\"\"\"\n",
    "        features, targets = batch\n",
    "        outputs = self(features)\n",
    "        targets = targets.long()\n",
    "        return F.cross_entropy(outputs, targets)\n",
    "    \n",
    "    def evaluate_batch(self, batch):\n",
    "        \"\"\"Compute validation loss and accuracy for one batch\"\"\"\n",
    "        features, targets = batch\n",
    "        outputs = self(features)\n",
    "        targets = targets.long()\n",
    "        loss = F.cross_entropy(outputs, targets)\n",
    "        acc = accuracy(outputs, targets)\n",
    "        return {'val_loss': loss, 'val_acc': acc}\n",
    "    \n",
    "    def aggregate_metrics(self, results):\n",
    "        \"\"\"Aggregate validation metrics across batches\"\"\"\n",
    "        losses = torch.stack([r['val_loss'] for r in results]).mean()\n",
    "        accs = torch.stack([r['val_acc'] for r in results]).mean()\n",
    "        return {'val_loss': losses.item(), 'val_acc': accs.item()}\n",
    "    \n",
    "    def log_epoch_results(self, epoch, metrics):\n",
    "        \"\"\"Display epoch-level results\"\"\"\n",
    "        print(f\"Epoch [{epoch}], val_loss: {metrics['val_loss']:.4f}, val_acc: {metrics['val_acc']:.4f}\")\n"
   ]
  },
  {
   "cell_type": "code",
   "execution_count": 19,
   "metadata": {
    "colab": {
     "base_uri": "https://localhost:8080/"
    },
    "executionInfo": {
     "elapsed": 22,
     "status": "ok",
     "timestamp": 1645810085639,
     "user": {
      "displayName": "Thiago Ferreira",
      "photoUrl": "https://lh3.googleusercontent.com/a/default-user=s64",
      "userId": "11691299862555252725"
     },
     "user_tz": 180
    },
    "id": "_7p6nq-dsoSd",
    "outputId": "7773fc2b-fd29-411f-9a37-0feaa9520a31"
   },
   "outputs": [
    {
     "name": "stdout",
     "output_type": "stream",
     "text": [
      "<bound method Module.parameters of LogisticModel(\n",
      "  (linear): Linear(in_features=13, out_features=2, bias=True)\n",
      ")>\n"
     ]
    }
   ],
   "source": [
    "input_size = 13\n",
    "num_classes = 2\n",
    "model = LogisticModel(input_size, num_classes)\n",
    "print(model.parameters)"
   ]
  },
  {
   "cell_type": "markdown",
   "metadata": {
    "id": "VdVizfzTUUw4"
   },
   "source": [
    "A função `fit` registra o custo medido sobre o conjunto de validação e a métrica de cada época. Ele retorna um histórico do treinamento, útil para depuração e visualização. Nesse método passamos configurações iniciais como taxa de aprendizado, tamanho de lote e etc. Essas configurações são denominadas hiperparâmetros. Esses hiperparâmetros possuem uma relevância muito grande no contexto de aprendizado de máquina. Dentro deste método fit, há ainda o método `evaluate`, responsável por avaliar a rede neural durante a fase de validação."
   ]
  },
  {
   "cell_type": "code",
   "execution_count": 20,
   "metadata": {
    "executionInfo": {
     "elapsed": 19,
     "status": "ok",
     "timestamp": 1645810085640,
     "user": {
      "displayName": "Thiago Ferreira",
      "photoUrl": "https://lh3.googleusercontent.com/a/default-user=s64",
      "userId": "11691299862555252725"
     },
     "user_tz": 180
    },
    "id": "y6hUy3nlTLKt"
   },
   "outputs": [],
   "source": [
    "def fit(epochs, lr, model, train_loader, val_loader, opt_func=torch.optim.SGD):\n",
    "    \"\"\"Train and validate the model for a given number of epochs.\"\"\"\n",
    "    optimizer = opt_func(model.parameters(), lr)\n",
    "    history = []  # Store epoch-wise metrics (train_loss, val_loss, val_acc)\n",
    "    \n",
    "    for epoch in range(epochs):\n",
    "        # ---- Training phase ----\n",
    "        model.train()\n",
    "        train_losses = []\n",
    "        \n",
    "        for batch in train_loader:\n",
    "            loss = model.compute_loss(batch)\n",
    "            train_losses.append(loss.detach())\n",
    "            loss.backward()\n",
    "            optimizer.step()\n",
    "            optimizer.zero_grad()\n",
    "        \n",
    "        mean_train_loss = torch.stack(train_losses).mean().item()\n",
    "        \n",
    "        # ---- Validation phase ----\n",
    "        model.eval()\n",
    "        val_results = []\n",
    "        \n",
    "        with torch.no_grad():\n",
    "            for batch in val_loader:\n",
    "                batch_result = model.evaluate_batch(batch)\n",
    "                val_results.append(batch_result)\n",
    "        \n",
    "        result = model.aggregate_metrics(val_results)\n",
    "        result['train_loss'] = mean_train_loss\n",
    "        \n",
    "        model.log_epoch_results(epoch, result)\n",
    "        history.append(result)\n",
    "    \n",
    "    return history\n"
   ]
  },
  {
   "cell_type": "code",
   "execution_count": 21,
   "metadata": {
    "colab": {
     "base_uri": "https://localhost:8080/"
    },
    "executionInfo": {
     "elapsed": 14312,
     "status": "ok",
     "timestamp": 1645810109448,
     "user": {
      "displayName": "Thiago Ferreira",
      "photoUrl": "https://lh3.googleusercontent.com/a/default-user=s64",
      "userId": "11691299862555252725"
     },
     "user_tz": 180
    },
    "id": "HzJUfmeEa_tX",
    "outputId": "9a248fac-41de-4eaf-dac1-453d2d0955dd"
   },
   "outputs": [
    {
     "name": "stdout",
     "output_type": "stream",
     "text": [
      "Epoch [0], val_loss: 0.8942, val_acc: 0.3969\n",
      "Epoch [1], val_loss: 0.8802, val_acc: 0.4062\n",
      "Epoch [2], val_loss: 0.8666, val_acc: 0.4187\n",
      "Epoch [3], val_loss: 0.8534, val_acc: 0.4344\n",
      "Epoch [4], val_loss: 0.8405, val_acc: 0.4406\n",
      "Epoch [5], val_loss: 0.8280, val_acc: 0.4531\n",
      "Epoch [6], val_loss: 0.8158, val_acc: 0.4656\n",
      "Epoch [7], val_loss: 0.8040, val_acc: 0.4844\n",
      "Epoch [8], val_loss: 0.7925, val_acc: 0.4969\n",
      "Epoch [9], val_loss: 0.7813, val_acc: 0.5094\n",
      "Epoch [10], val_loss: 0.7705, val_acc: 0.5281\n",
      "Epoch [11], val_loss: 0.7599, val_acc: 0.5344\n",
      "Epoch [12], val_loss: 0.7497, val_acc: 0.5437\n",
      "Epoch [13], val_loss: 0.7397, val_acc: 0.5531\n",
      "Epoch [14], val_loss: 0.7301, val_acc: 0.5562\n",
      "Epoch [15], val_loss: 0.7207, val_acc: 0.5688\n",
      "Epoch [16], val_loss: 0.7116, val_acc: 0.5750\n",
      "Epoch [17], val_loss: 0.7028, val_acc: 0.5844\n",
      "Epoch [18], val_loss: 0.6942, val_acc: 0.6031\n",
      "Epoch [19], val_loss: 0.6859, val_acc: 0.6156\n",
      "Epoch [20], val_loss: 0.6778, val_acc: 0.6406\n",
      "Epoch [21], val_loss: 0.6700, val_acc: 0.6500\n",
      "Epoch [22], val_loss: 0.6623, val_acc: 0.6687\n",
      "Epoch [23], val_loss: 0.6549, val_acc: 0.6781\n",
      "Epoch [24], val_loss: 0.6478, val_acc: 0.6781\n",
      "Epoch [25], val_loss: 0.6408, val_acc: 0.6844\n",
      "Epoch [26], val_loss: 0.6340, val_acc: 0.6875\n",
      "Epoch [27], val_loss: 0.6275, val_acc: 0.6906\n",
      "Epoch [28], val_loss: 0.6211, val_acc: 0.7000\n",
      "Epoch [29], val_loss: 0.6149, val_acc: 0.7031\n",
      "Epoch [30], val_loss: 0.6089, val_acc: 0.7094\n",
      "Epoch [31], val_loss: 0.6030, val_acc: 0.7125\n",
      "Epoch [32], val_loss: 0.5973, val_acc: 0.7156\n",
      "Epoch [33], val_loss: 0.5918, val_acc: 0.7188\n",
      "Epoch [34], val_loss: 0.5864, val_acc: 0.7250\n",
      "Epoch [35], val_loss: 0.5812, val_acc: 0.7406\n",
      "Epoch [36], val_loss: 0.5761, val_acc: 0.7469\n",
      "Epoch [37], val_loss: 0.5712, val_acc: 0.7469\n",
      "Epoch [38], val_loss: 0.5664, val_acc: 0.7500\n",
      "Epoch [39], val_loss: 0.5617, val_acc: 0.7563\n",
      "Epoch [40], val_loss: 0.5572, val_acc: 0.7563\n",
      "Epoch [41], val_loss: 0.5528, val_acc: 0.7656\n",
      "Epoch [42], val_loss: 0.5485, val_acc: 0.7656\n",
      "Epoch [43], val_loss: 0.5443, val_acc: 0.7719\n",
      "Epoch [44], val_loss: 0.5403, val_acc: 0.7781\n",
      "Epoch [45], val_loss: 0.5363, val_acc: 0.7844\n",
      "Epoch [46], val_loss: 0.5324, val_acc: 0.7844\n",
      "Epoch [47], val_loss: 0.5287, val_acc: 0.7875\n",
      "Epoch [48], val_loss: 0.5250, val_acc: 0.7938\n",
      "Epoch [49], val_loss: 0.5215, val_acc: 0.8063\n",
      "Epoch [50], val_loss: 0.5180, val_acc: 0.8125\n",
      "Epoch [51], val_loss: 0.5146, val_acc: 0.8156\n",
      "Epoch [52], val_loss: 0.5113, val_acc: 0.8156\n",
      "Epoch [53], val_loss: 0.5081, val_acc: 0.8188\n",
      "Epoch [54], val_loss: 0.5049, val_acc: 0.8281\n",
      "Epoch [55], val_loss: 0.5019, val_acc: 0.8281\n",
      "Epoch [56], val_loss: 0.4989, val_acc: 0.8281\n",
      "Epoch [57], val_loss: 0.4960, val_acc: 0.8281\n",
      "Epoch [58], val_loss: 0.4931, val_acc: 0.8281\n",
      "Epoch [59], val_loss: 0.4904, val_acc: 0.8281\n",
      "Epoch [60], val_loss: 0.4877, val_acc: 0.8313\n",
      "Epoch [61], val_loss: 0.4850, val_acc: 0.8313\n",
      "Epoch [62], val_loss: 0.4824, val_acc: 0.8313\n",
      "Epoch [63], val_loss: 0.4799, val_acc: 0.8313\n",
      "Epoch [64], val_loss: 0.4774, val_acc: 0.8344\n",
      "Epoch [65], val_loss: 0.4750, val_acc: 0.8344\n",
      "Epoch [66], val_loss: 0.4727, val_acc: 0.8344\n",
      "Epoch [67], val_loss: 0.4704, val_acc: 0.8344\n",
      "Epoch [68], val_loss: 0.4681, val_acc: 0.8344\n",
      "Epoch [69], val_loss: 0.4659, val_acc: 0.8344\n",
      "Epoch [70], val_loss: 0.4638, val_acc: 0.8344\n",
      "Epoch [71], val_loss: 0.4617, val_acc: 0.8344\n",
      "Epoch [72], val_loss: 0.4596, val_acc: 0.8344\n",
      "Epoch [73], val_loss: 0.4576, val_acc: 0.8344\n",
      "Epoch [74], val_loss: 0.4556, val_acc: 0.8375\n",
      "Epoch [75], val_loss: 0.4537, val_acc: 0.8375\n",
      "Epoch [76], val_loss: 0.4518, val_acc: 0.8406\n",
      "Epoch [77], val_loss: 0.4500, val_acc: 0.8406\n",
      "Epoch [78], val_loss: 0.4482, val_acc: 0.8406\n",
      "Epoch [79], val_loss: 0.4464, val_acc: 0.8406\n",
      "Epoch [80], val_loss: 0.4447, val_acc: 0.8406\n",
      "Epoch [81], val_loss: 0.4430, val_acc: 0.8438\n",
      "Epoch [82], val_loss: 0.4413, val_acc: 0.8438\n",
      "Epoch [83], val_loss: 0.4397, val_acc: 0.8438\n",
      "Epoch [84], val_loss: 0.4381, val_acc: 0.8438\n",
      "Epoch [85], val_loss: 0.4365, val_acc: 0.8438\n",
      "Epoch [86], val_loss: 0.4350, val_acc: 0.8438\n",
      "Epoch [87], val_loss: 0.4335, val_acc: 0.8438\n",
      "Epoch [88], val_loss: 0.4320, val_acc: 0.8438\n",
      "Epoch [89], val_loss: 0.4305, val_acc: 0.8469\n",
      "Epoch [90], val_loss: 0.4291, val_acc: 0.8469\n",
      "Epoch [91], val_loss: 0.4277, val_acc: 0.8469\n",
      "Epoch [92], val_loss: 0.4263, val_acc: 0.8469\n",
      "Epoch [93], val_loss: 0.4250, val_acc: 0.8469\n",
      "Epoch [94], val_loss: 0.4237, val_acc: 0.8469\n",
      "Epoch [95], val_loss: 0.4224, val_acc: 0.8500\n",
      "Epoch [96], val_loss: 0.4211, val_acc: 0.8500\n",
      "Epoch [97], val_loss: 0.4199, val_acc: 0.8500\n",
      "Epoch [98], val_loss: 0.4186, val_acc: 0.8500\n",
      "Epoch [99], val_loss: 0.4174, val_acc: 0.8500\n",
      "Epoch [100], val_loss: 0.4163, val_acc: 0.8500\n",
      "Epoch [101], val_loss: 0.4151, val_acc: 0.8500\n",
      "Epoch [102], val_loss: 0.4140, val_acc: 0.8500\n",
      "Epoch [103], val_loss: 0.4128, val_acc: 0.8500\n",
      "Epoch [104], val_loss: 0.4117, val_acc: 0.8500\n",
      "Epoch [105], val_loss: 0.4106, val_acc: 0.8500\n",
      "Epoch [106], val_loss: 0.4096, val_acc: 0.8500\n",
      "Epoch [107], val_loss: 0.4085, val_acc: 0.8500\n",
      "Epoch [108], val_loss: 0.4075, val_acc: 0.8500\n",
      "Epoch [109], val_loss: 0.4065, val_acc: 0.8500\n",
      "Epoch [110], val_loss: 0.4055, val_acc: 0.8500\n",
      "Epoch [111], val_loss: 0.4045, val_acc: 0.8500\n",
      "Epoch [112], val_loss: 0.4036, val_acc: 0.8500\n",
      "Epoch [113], val_loss: 0.4026, val_acc: 0.8500\n",
      "Epoch [114], val_loss: 0.4017, val_acc: 0.8500\n",
      "Epoch [115], val_loss: 0.4008, val_acc: 0.8500\n",
      "Epoch [116], val_loss: 0.3999, val_acc: 0.8500\n",
      "Epoch [117], val_loss: 0.3990, val_acc: 0.8500\n",
      "Epoch [118], val_loss: 0.3981, val_acc: 0.8500\n",
      "Epoch [119], val_loss: 0.3972, val_acc: 0.8500\n",
      "Epoch [120], val_loss: 0.3964, val_acc: 0.8500\n",
      "Epoch [121], val_loss: 0.3956, val_acc: 0.8500\n",
      "Epoch [122], val_loss: 0.3947, val_acc: 0.8500\n",
      "Epoch [123], val_loss: 0.3939, val_acc: 0.8500\n",
      "Epoch [124], val_loss: 0.3931, val_acc: 0.8500\n",
      "Epoch [125], val_loss: 0.3923, val_acc: 0.8500\n",
      "Epoch [126], val_loss: 0.3916, val_acc: 0.8500\n",
      "Epoch [127], val_loss: 0.3908, val_acc: 0.8500\n",
      "Epoch [128], val_loss: 0.3901, val_acc: 0.8500\n",
      "Epoch [129], val_loss: 0.3893, val_acc: 0.8500\n",
      "Epoch [130], val_loss: 0.3886, val_acc: 0.8500\n",
      "Epoch [131], val_loss: 0.3879, val_acc: 0.8500\n",
      "Epoch [132], val_loss: 0.3872, val_acc: 0.8500\n",
      "Epoch [133], val_loss: 0.3865, val_acc: 0.8500\n",
      "Epoch [134], val_loss: 0.3858, val_acc: 0.8500\n",
      "Epoch [135], val_loss: 0.3851, val_acc: 0.8563\n",
      "Epoch [136], val_loss: 0.3844, val_acc: 0.8563\n",
      "Epoch [137], val_loss: 0.3838, val_acc: 0.8563\n",
      "Epoch [138], val_loss: 0.3831, val_acc: 0.8594\n",
      "Epoch [139], val_loss: 0.3825, val_acc: 0.8594\n",
      "Epoch [140], val_loss: 0.3819, val_acc: 0.8594\n",
      "Epoch [141], val_loss: 0.3812, val_acc: 0.8594\n",
      "Epoch [142], val_loss: 0.3806, val_acc: 0.8594\n",
      "Epoch [143], val_loss: 0.3800, val_acc: 0.8594\n",
      "Epoch [144], val_loss: 0.3794, val_acc: 0.8594\n",
      "Epoch [145], val_loss: 0.3788, val_acc: 0.8594\n",
      "Epoch [146], val_loss: 0.3782, val_acc: 0.8594\n",
      "Epoch [147], val_loss: 0.3777, val_acc: 0.8594\n",
      "Epoch [148], val_loss: 0.3771, val_acc: 0.8594\n",
      "Epoch [149], val_loss: 0.3765, val_acc: 0.8594\n",
      "Epoch [150], val_loss: 0.3760, val_acc: 0.8594\n",
      "Epoch [151], val_loss: 0.3755, val_acc: 0.8594\n",
      "Epoch [152], val_loss: 0.3749, val_acc: 0.8594\n",
      "Epoch [153], val_loss: 0.3744, val_acc: 0.8594\n",
      "Epoch [154], val_loss: 0.3739, val_acc: 0.8594\n",
      "Epoch [155], val_loss: 0.3733, val_acc: 0.8594\n",
      "Epoch [156], val_loss: 0.3728, val_acc: 0.8594\n",
      "Epoch [157], val_loss: 0.3723, val_acc: 0.8594\n",
      "Epoch [158], val_loss: 0.3718, val_acc: 0.8594\n",
      "Epoch [159], val_loss: 0.3713, val_acc: 0.8594\n",
      "Epoch [160], val_loss: 0.3709, val_acc: 0.8625\n",
      "Epoch [161], val_loss: 0.3704, val_acc: 0.8625\n",
      "Epoch [162], val_loss: 0.3699, val_acc: 0.8625\n",
      "Epoch [163], val_loss: 0.3694, val_acc: 0.8625\n",
      "Epoch [164], val_loss: 0.3690, val_acc: 0.8625\n",
      "Epoch [165], val_loss: 0.3685, val_acc: 0.8625\n",
      "Epoch [166], val_loss: 0.3681, val_acc: 0.8625\n",
      "Epoch [167], val_loss: 0.3676, val_acc: 0.8625\n",
      "Epoch [168], val_loss: 0.3672, val_acc: 0.8625\n",
      "Epoch [169], val_loss: 0.3667, val_acc: 0.8625\n",
      "Epoch [170], val_loss: 0.3663, val_acc: 0.8656\n",
      "Epoch [171], val_loss: 0.3659, val_acc: 0.8688\n",
      "Epoch [172], val_loss: 0.3655, val_acc: 0.8688\n",
      "Epoch [173], val_loss: 0.3651, val_acc: 0.8688\n",
      "Epoch [174], val_loss: 0.3646, val_acc: 0.8688\n",
      "Epoch [175], val_loss: 0.3642, val_acc: 0.8688\n",
      "Epoch [176], val_loss: 0.3638, val_acc: 0.8688\n",
      "Epoch [177], val_loss: 0.3634, val_acc: 0.8688\n",
      "Epoch [178], val_loss: 0.3631, val_acc: 0.8688\n",
      "Epoch [179], val_loss: 0.3627, val_acc: 0.8688\n",
      "Epoch [180], val_loss: 0.3623, val_acc: 0.8688\n",
      "Epoch [181], val_loss: 0.3619, val_acc: 0.8688\n",
      "Epoch [182], val_loss: 0.3615, val_acc: 0.8688\n",
      "Epoch [183], val_loss: 0.3612, val_acc: 0.8688\n",
      "Epoch [184], val_loss: 0.3608, val_acc: 0.8688\n",
      "Epoch [185], val_loss: 0.3604, val_acc: 0.8688\n",
      "Epoch [186], val_loss: 0.3601, val_acc: 0.8688\n",
      "Epoch [187], val_loss: 0.3597, val_acc: 0.8688\n",
      "Epoch [188], val_loss: 0.3594, val_acc: 0.8688\n",
      "Epoch [189], val_loss: 0.3590, val_acc: 0.8688\n",
      "Epoch [190], val_loss: 0.3587, val_acc: 0.8688\n",
      "Epoch [191], val_loss: 0.3584, val_acc: 0.8688\n",
      "Epoch [192], val_loss: 0.3580, val_acc: 0.8688\n",
      "Epoch [193], val_loss: 0.3577, val_acc: 0.8688\n",
      "Epoch [194], val_loss: 0.3574, val_acc: 0.8688\n",
      "Epoch [195], val_loss: 0.3570, val_acc: 0.8719\n",
      "Epoch [196], val_loss: 0.3567, val_acc: 0.8719\n",
      "Epoch [197], val_loss: 0.3564, val_acc: 0.8719\n",
      "Epoch [198], val_loss: 0.3561, val_acc: 0.8719\n",
      "Epoch [199], val_loss: 0.3558, val_acc: 0.8719\n",
      "Epoch [200], val_loss: 0.3555, val_acc: 0.8719\n",
      "Epoch [201], val_loss: 0.3552, val_acc: 0.8719\n",
      "Epoch [202], val_loss: 0.3549, val_acc: 0.8719\n",
      "Epoch [203], val_loss: 0.3546, val_acc: 0.8719\n",
      "Epoch [204], val_loss: 0.3543, val_acc: 0.8719\n",
      "Epoch [205], val_loss: 0.3540, val_acc: 0.8719\n",
      "Epoch [206], val_loss: 0.3537, val_acc: 0.8719\n",
      "Epoch [207], val_loss: 0.3534, val_acc: 0.8719\n",
      "Epoch [208], val_loss: 0.3531, val_acc: 0.8750\n",
      "Epoch [209], val_loss: 0.3528, val_acc: 0.8750\n",
      "Epoch [210], val_loss: 0.3526, val_acc: 0.8750\n",
      "Epoch [211], val_loss: 0.3523, val_acc: 0.8750\n",
      "Epoch [212], val_loss: 0.3520, val_acc: 0.8750\n",
      "Epoch [213], val_loss: 0.3518, val_acc: 0.8750\n",
      "Epoch [214], val_loss: 0.3515, val_acc: 0.8750\n",
      "Epoch [215], val_loss: 0.3512, val_acc: 0.8750\n",
      "Epoch [216], val_loss: 0.3510, val_acc: 0.8750\n",
      "Epoch [217], val_loss: 0.3507, val_acc: 0.8750\n",
      "Epoch [218], val_loss: 0.3505, val_acc: 0.8750\n",
      "Epoch [219], val_loss: 0.3502, val_acc: 0.8750\n",
      "Epoch [220], val_loss: 0.3500, val_acc: 0.8750\n",
      "Epoch [221], val_loss: 0.3497, val_acc: 0.8750\n",
      "Epoch [222], val_loss: 0.3495, val_acc: 0.8750\n",
      "Epoch [223], val_loss: 0.3492, val_acc: 0.8750\n",
      "Epoch [224], val_loss: 0.3490, val_acc: 0.8750\n",
      "Epoch [225], val_loss: 0.3487, val_acc: 0.8781\n",
      "Epoch [226], val_loss: 0.3485, val_acc: 0.8781\n",
      "Epoch [227], val_loss: 0.3483, val_acc: 0.8781\n",
      "Epoch [228], val_loss: 0.3480, val_acc: 0.8781\n",
      "Epoch [229], val_loss: 0.3478, val_acc: 0.8781\n",
      "Epoch [230], val_loss: 0.3476, val_acc: 0.8781\n",
      "Epoch [231], val_loss: 0.3474, val_acc: 0.8781\n",
      "Epoch [232], val_loss: 0.3471, val_acc: 0.8781\n",
      "Epoch [233], val_loss: 0.3469, val_acc: 0.8781\n",
      "Epoch [234], val_loss: 0.3467, val_acc: 0.8781\n",
      "Epoch [235], val_loss: 0.3465, val_acc: 0.8781\n",
      "Epoch [236], val_loss: 0.3463, val_acc: 0.8781\n",
      "Epoch [237], val_loss: 0.3460, val_acc: 0.8781\n",
      "Epoch [238], val_loss: 0.3458, val_acc: 0.8781\n",
      "Epoch [239], val_loss: 0.3456, val_acc: 0.8781\n",
      "Epoch [240], val_loss: 0.3454, val_acc: 0.8781\n",
      "Epoch [241], val_loss: 0.3452, val_acc: 0.8781\n",
      "Epoch [242], val_loss: 0.3450, val_acc: 0.8781\n",
      "Epoch [243], val_loss: 0.3448, val_acc: 0.8781\n",
      "Epoch [244], val_loss: 0.3446, val_acc: 0.8781\n",
      "Epoch [245], val_loss: 0.3444, val_acc: 0.8781\n",
      "Epoch [246], val_loss: 0.3442, val_acc: 0.8781\n",
      "Epoch [247], val_loss: 0.3440, val_acc: 0.8781\n",
      "Epoch [248], val_loss: 0.3438, val_acc: 0.8781\n",
      "Epoch [249], val_loss: 0.3436, val_acc: 0.8781\n",
      "Epoch [250], val_loss: 0.3434, val_acc: 0.8781\n",
      "Epoch [251], val_loss: 0.3433, val_acc: 0.8781\n",
      "Epoch [252], val_loss: 0.3431, val_acc: 0.8781\n",
      "Epoch [253], val_loss: 0.3429, val_acc: 0.8781\n",
      "Epoch [254], val_loss: 0.3427, val_acc: 0.8781\n",
      "Epoch [255], val_loss: 0.3425, val_acc: 0.8781\n",
      "Epoch [256], val_loss: 0.3423, val_acc: 0.8781\n",
      "Epoch [257], val_loss: 0.3422, val_acc: 0.8781\n",
      "Epoch [258], val_loss: 0.3420, val_acc: 0.8781\n",
      "Epoch [259], val_loss: 0.3418, val_acc: 0.8781\n",
      "Epoch [260], val_loss: 0.3416, val_acc: 0.8781\n",
      "Epoch [261], val_loss: 0.3415, val_acc: 0.8781\n",
      "Epoch [262], val_loss: 0.3413, val_acc: 0.8781\n",
      "Epoch [263], val_loss: 0.3411, val_acc: 0.8812\n",
      "Epoch [264], val_loss: 0.3410, val_acc: 0.8812\n",
      "Epoch [265], val_loss: 0.3408, val_acc: 0.8812\n",
      "Epoch [266], val_loss: 0.3406, val_acc: 0.8812\n",
      "Epoch [267], val_loss: 0.3405, val_acc: 0.8812\n",
      "Epoch [268], val_loss: 0.3403, val_acc: 0.8812\n",
      "Epoch [269], val_loss: 0.3401, val_acc: 0.8812\n",
      "Epoch [270], val_loss: 0.3400, val_acc: 0.8812\n",
      "Epoch [271], val_loss: 0.3398, val_acc: 0.8812\n",
      "Epoch [272], val_loss: 0.3397, val_acc: 0.8812\n",
      "Epoch [273], val_loss: 0.3395, val_acc: 0.8812\n",
      "Epoch [274], val_loss: 0.3394, val_acc: 0.8812\n",
      "Epoch [275], val_loss: 0.3392, val_acc: 0.8812\n",
      "Epoch [276], val_loss: 0.3391, val_acc: 0.8812\n",
      "Epoch [277], val_loss: 0.3389, val_acc: 0.8781\n",
      "Epoch [278], val_loss: 0.3388, val_acc: 0.8781\n",
      "Epoch [279], val_loss: 0.3386, val_acc: 0.8781\n",
      "Epoch [280], val_loss: 0.3385, val_acc: 0.8781\n",
      "Epoch [281], val_loss: 0.3383, val_acc: 0.8719\n",
      "Epoch [282], val_loss: 0.3382, val_acc: 0.8719\n",
      "Epoch [283], val_loss: 0.3380, val_acc: 0.8719\n",
      "Epoch [284], val_loss: 0.3379, val_acc: 0.8719\n",
      "Epoch [285], val_loss: 0.3378, val_acc: 0.8719\n",
      "Epoch [286], val_loss: 0.3376, val_acc: 0.8719\n",
      "Epoch [287], val_loss: 0.3375, val_acc: 0.8719\n",
      "Epoch [288], val_loss: 0.3373, val_acc: 0.8719\n",
      "Epoch [289], val_loss: 0.3372, val_acc: 0.8719\n",
      "Epoch [290], val_loss: 0.3371, val_acc: 0.8719\n",
      "Epoch [291], val_loss: 0.3369, val_acc: 0.8719\n",
      "Epoch [292], val_loss: 0.3368, val_acc: 0.8719\n",
      "Epoch [293], val_loss: 0.3367, val_acc: 0.8719\n",
      "Epoch [294], val_loss: 0.3365, val_acc: 0.8719\n",
      "Epoch [295], val_loss: 0.3364, val_acc: 0.8719\n",
      "Epoch [296], val_loss: 0.3363, val_acc: 0.8719\n",
      "Epoch [297], val_loss: 0.3362, val_acc: 0.8719\n",
      "Epoch [298], val_loss: 0.3360, val_acc: 0.8750\n",
      "Epoch [299], val_loss: 0.3359, val_acc: 0.8750\n"
     ]
    }
   ],
   "source": [
    "history = fit(300, 0.001, model, train_loader, val_loader)"
   ]
  },
  {
   "cell_type": "code",
   "execution_count": 22,
   "metadata": {},
   "outputs": [
    {
     "data": {
      "image/png": "[encoded data removed]",
      "text/plain": [
       "<Figure size 1200x500 with 2 Axes>"
      ]
     },
     "metadata": {},
     "output_type": "display_data"
    }
   ],
   "source": [
    "import matplotlib.pyplot as plt\n",
    "\n",
    "# --- Extração das métricas ---\n",
    "epochs       = range(1, len(history) + 1)\n",
    "train_losses = [x['train_loss'] for x in history]\n",
    "val_losses   = [x['val_loss'] for x in history]\n",
    "val_accs     = [x['val_acc'] for x in history]\n",
    "\n",
    "# --- Visualização ---\n",
    "plt.figure(figsize=(12, 5))\n",
    "\n",
    "# vas de perda (treino e validação)\n",
    "plt.subplot(1, 2, 1)\n",
    "plt.plot(epochs, train_losses, 'g--', label='Training Loss')\n",
    "plt.plot(epochs, val_losses, 'r-', label='Validation Loss')\n",
    "plt.title('Training and Validation Loss')\n",
    "plt.xlabel('Epoch')\n",
    "plt.ylabel('Loss')\n",
    "plt.legend()\n",
    "plt.grid(True)\n",
    "\n",
    "# Curva de acurácia (validação)\n",
    "plt.subplot(1, 2, 2)\n",
    "plt.plot(epochs, val_accs, 'b-', label='Validation Accuracy')\n",
    "plt.title('Validation Accuracy')\n",
    "plt.xlabel('Epoch')\n",
    "plt.ylabel('Accuracy')\n",
    "plt.legend()\n",
    "plt.grid(True)\n",
    "\n",
    "plt.tight_layout()\n",
    "plt.show()\n"
   ]
  },
  {
   "cell_type": "markdown",
   "metadata": {
    "id": "5T9JwxRikHKh"
   },
   "source": [
    "## Validação do modelo"
   ]
  },
  {
   "cell_type": "code",
   "execution_count": 23,
   "metadata": {},
   "outputs": [],
   "source": [
    "def evaluate(model, data_loader): \n",
    "    results = [] \n",
    "    for batch in data_loader: \n",
    "        batch_result = model.evaluate_batch(batch) \n",
    "        results.append(batch_result)\n",
    "    return model.aggregate_metrics(results)"
   ]
  },
  {
   "cell_type": "code",
   "execution_count": 24,
   "metadata": {
    "colab": {
     "base_uri": "https://localhost:8080/"
    },
    "executionInfo": {
     "elapsed": 294,
     "status": "ok",
     "timestamp": 1645810165282,
     "user": {
      "displayName": "Thiago Ferreira",
      "photoUrl": "https://lh3.googleusercontent.com/a/default-user=s64",
      "userId": "11691299862555252725"
     },
     "user_tz": 180
    },
    "id": "2j8gkXUQkLY8",
    "outputId": "46659bea-8801-459a-9ae4-8550560ec07a"
   },
   "outputs": [
    {
     "name": "stdout",
     "output_type": "stream",
     "text": [
      "{'val_loss': 0.3496675491333008, 'val_acc': 0.8854901790618896}\n"
     ]
    },
    {
     "data": {
      "image/png": "[encoded data removed]",
      "text/plain": [
       "<Figure size 640x480 with 1 Axes>"
      ]
     },
     "metadata": {},
     "output_type": "display_data"
    }
   ],
   "source": [
    "import torch\n",
    "from sklearn.metrics import confusion_matrix, ConfusionMatrixDisplay\n",
    "import matplotlib.pyplot as plt\n",
    "\n",
    "# --- Avaliação no conjunto de teste ---\n",
    "test_dataset = TensorDataset(x_test, y_test)\n",
    "test_loader = DataLoader(test_dataset, batch_size=40)\n",
    "\n",
    "result = evaluate(model, test_loader)\n",
    "print(result)\n",
    "\n",
    "# --- Geração de previsões ---\n",
    "model.eval()\n",
    "all_preds = []\n",
    "all_labels = []\n",
    "\n",
    "with torch.no_grad():\n",
    "    for xb, yb in test_loader:\n",
    "        outputs = model(xb)\n",
    "        _, preds = torch.max(outputs, dim=1)  # obtém classe com maior probabilidade\n",
    "        all_preds.append(preds)\n",
    "        all_labels.append(yb)\n",
    "\n",
    "# --- Consolidação dos resultados ---\n",
    "all_preds = torch.cat(all_preds).cpu().numpy()\n",
    "all_labels = torch.cat(all_labels).cpu().numpy()\n",
    "\n",
    "# --- Matriz de confusão ---\n",
    "cm = confusion_matrix(all_labels, all_preds)\n",
    "disp = ConfusionMatrixDisplay(confusion_matrix=cm)\n",
    "disp.plot(cmap='Blues', colorbar=False)\n",
    "\n",
    "plt.title('Confusion Matrix (Test Set)')\n",
    "plt.xlabel('Predicted Label')\n",
    "plt.ylabel('True Label')\n",
    "plt.grid(False)\n",
    "plt.show()\n"
   ]
  },
  {
   "cell_type": "markdown",
   "metadata": {},
   "source": [
    "# Modelo para comparação"
   ]
  },
  {
   "cell_type": "code",
   "execution_count": 26,
   "metadata": {},
   "outputs": [
    {
     "name": "stdout",
     "output_type": "stream",
     "text": [
      "Acurácia (validação) - LogisticRegression: 0.8856\n"
     ]
    },
    {
     "name": "stderr",
     "output_type": "stream",
     "text": [
      "/home/ebezerra/anaconda3/envs/cic1205/lib/python3.12/site-packages/sklearn/linear_model/_logistic.py:1254: FutureWarning: 'multi_class' was deprecated in version 1.5 and will be removed in 1.7. From then on, binary problems will be fit as proper binary  logistic regression models (as if multi_class='ovr' were set). Leave it to its default value to avoid this warning.\n",
      "  warnings.warn(\n"
     ]
    },
    {
     "data": {
      "image/png": "[encoded data removed]",
      "text/plain": [
       "<Figure size 640x480 with 1 Axes>"
      ]
     },
     "metadata": {},
     "output_type": "display_data"
    }
   ],
   "source": [
    "from sklearn.linear_model import LogisticRegression\n",
    "from sklearn.metrics import accuracy_score, confusion_matrix, ConfusionMatrixDisplay\n",
    "import matplotlib.pyplot as plt\n",
    "\n",
    "# --- Treinamento do modelo de regressão logística (scikit-learn) ---\n",
    "logreg = LogisticRegression(\n",
    "    multi_class='multinomial',  # usa softmax (equivalente ao modelo PyTorch)\n",
    "    solver='lbfgs',             # método robusto para problemas multiclasse\n",
    "    max_iter=1000,              # aumenta o limite de iterações (por segurança)\n",
    "    random_state=42\n",
    ")\n",
    "\n",
    "logreg.fit(X_train_norm, y_train)\n",
    "\n",
    "# --- Avaliação no conjunto de validação ---\n",
    "y_val_pred = logreg.predict(X_test_norm)\n",
    "val_acc = accuracy_score(y_test, y_val_pred)\n",
    "\n",
    "print(f\"Acurácia (validação) - LogisticRegression: {val_acc:.4f}\")\n",
    "\n",
    "# --- Matriz de confusão ---\n",
    "cm = confusion_matrix(y_test, y_val_pred)\n",
    "disp = ConfusionMatrixDisplay(confusion_matrix=cm)\n",
    "disp.plot(cmap='Blues', colorbar=False)\n",
    "plt.title('Matriz de Confusão - Logistic Regression (validação)')\n",
    "plt.xlabel('Classe prevista')\n",
    "plt.ylabel('Classe verdadeira')\n",
    "plt.show()\n"
   ]
  },
  {
   "cell_type": "markdown",
   "metadata": {},
   "source": [
    "# Seção de Exercícios – Modelo Linear com PyTorch\n",
    "\n",
    "Nesta seção, você realizará experimentos práticos com o modelo `LogisticModel`, implementado em PyTorch, para compreender melhor como funciona uma *rede neural linear* (regressão logística multiclasse).\n",
    "\n",
    "Os exercícios a seguir visam:\n",
    "- Consolidar o entendimento do processo de treinamento e validação;\n",
    "- Investigar o impacto dos hiperparâmetros;\n",
    "- Explorar métricas e visualizações para análise de desempenho.\n",
    "\n",
    "---\n",
    "\n",
    "## Exercício 1 — Análise das curvas de treinamento\n",
    "1. Treine novamente o modelo `LogisticModel` com diferentes números de épocas (`epochs = 50`, `150`, `300`).  \n",
    "2. Plote as curvas de **perda de treino (`train_loss`)** e **perda de validação (`val_loss`)** em função da época.  \n",
    "3. Analise:\n",
    "   - O modelo converge rapidamente?  \n",
    "   - Há indícios de **overfitting** (val_loss sobe enquanto train_loss desce)?  \n",
    "   - O modelo está **subajustado** (underfitting)?\n",
    "\n",
    "Escreva suas conclusões ao final da célula.\n",
    "\n",
    "---\n",
    "\n",
    "## Exercício 2 — Acurácia e matriz de confusão\n",
    "1. Após o treinamento, avalie o modelo no conjunto de **teste**.  \n",
    "2. Gere e visualize a matriz de confusão.  \n",
    "3. Responda:\n",
    "   - Em quais classes o modelo mais erra?  \n",
    "   - Há confusão sistemática entre categorias específicas?  \n",
    "   - As classes estão desbalanceadas?\n",
    "\n",
    "Comente brevemente suas observações.\n",
    "\n",
    "---\n",
    "\n",
    "## Exercício 3 — Efeito da taxa de aprendizado\n",
    "1. Treine o modelo com diferentes valores de **taxa de aprendizado** (`lr`):  \n",
    "   \\[\n",
    "   lr = [0.1, 0.01, 0.001]\n",
    "   \\]\n",
    "2. Observe o comportamento das curvas de perda.  \n",
    "3. Explique:\n",
    "   - Taxas maiores geram oscilações ou instabilidade?  \n",
    "   - Taxas menores resultam em convergência mais lenta?\n",
    "\n",
    "---\n",
    "\n",
    "## Exercício 4 — Impacto do tamanho do *batch*\n",
    "1. Repita o treinamento com tamanhos de *batch* diferentes:  \n",
    "   \\[\n",
    "   batch\\_size = [10, 40, 100]\n",
    "   \\]\n",
    "2. Observe se o valor da perda flutua mais ou menos entre épocas.  \n",
    "3. Explique como o tamanho do *batch* afeta:\n",
    "   - A estabilidade do gradiente;  \n",
    "   - O tempo de convergência.\n",
    "\n",
    "---\n",
    "\n",
    "## Exercício 5 — Regularização (opcional)\n",
    "1. Adicione o parâmetro de regularização L2 (*weight decay*) no otimizador:\n",
    "   ```python\n",
    "   optimizer = torch.optim.SGD(model.parameters(), lr=0.001, weight_decay=1e-4)\n"
   ]
  }
 ],
 "metadata": {
  "colab": {
   "collapsed_sections": [],
   "name": "Q1.ipynb",
   "provenance": [],
   "toc_visible": true
  },
  "kernelspec": {
   "display_name": "cic1205",
   "language": "python",
   "name": "python3"
  },
  "language_info": {
   "codemirror_mode": {
    "name": "ipython",
    "version": 3
   },
   "file_extension": ".py",
   "mimetype": "text/x-python",
   "name": "python",
   "nbconvert_exporter": "python",
   "pygments_lexer": "ipython3",
   "version": "3.12.0"
  }
 },
 "nbformat": 4,
 "nbformat_minor": 0
}
